{
 "cells": [
  {
   "cell_type": "code",
   "execution_count": 3,
   "id": "ad08e4b0",
   "metadata": {},
   "outputs": [
    {
     "name": "stdout",
     "output_type": "stream",
     "text": [
      "Write a Year : 2019\n",
      "2019 is not a leap year.\n"
     ]
    }
   ],
   "source": [
    "year = int(input(\"Write a Year : \"))\n",
    "dividedby4 = year % 4 == 0\n",
    "dividedby100 = year % 100 != 0\n",
    "dividedby400 = year % 400 == 0\n",
    "if dividedby4 and dividedby100 or dividedby400 :\n",
    "    print(\"{} is a leap year.\".format(year))\n",
    "else :\n",
    "    print(\"{} is not a leap year.\".format(year))"
   ]
  },
  {
   "cell_type": "code",
   "execution_count": null,
   "id": "74fb332e",
   "metadata": {},
   "outputs": [],
   "source": []
  },
  {
   "cell_type": "code",
   "execution_count": null,
   "id": "335abfce",
   "metadata": {},
   "outputs": [],
   "source": []
  }
 ],
 "metadata": {
  "kernelspec": {
   "display_name": "Python 3 (ipykernel)",
   "language": "python",
   "name": "python3"
  },
  "language_info": {
   "codemirror_mode": {
    "name": "ipython",
    "version": 3
   },
   "file_extension": ".py",
   "mimetype": "text/x-python",
   "name": "python",
   "nbconvert_exporter": "python",
   "pygments_lexer": "ipython3",
   "version": "3.9.12"
  }
 },
 "nbformat": 4,
 "nbformat_minor": 5
}
